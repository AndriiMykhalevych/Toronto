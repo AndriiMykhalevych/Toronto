{
 "cells": [
  {
   "cell_type": "markdown",
   "metadata": {},
   "source": [
    "Neighborhoods in Toronto:\n",
    "https://en.wikipedia.org/wiki/List_of_postal_codes_of_Canada:_M"
   ]
  },
  {
   "cell_type": "code",
   "execution_count": 277,
   "metadata": {},
   "outputs": [],
   "source": [
    "import pandas as pd\n",
    "import requests\n",
    "from lxml import html\n",
    "url = 'https://en.wikipedia.org/wiki/List_of_postal_codes_of_Canada:_M'\n",
    "url = requests.get(url)"
   ]
  },
  {
   "cell_type": "markdown",
   "metadata": {},
   "source": [
    " website (class \"wikitable sortable\") scraping: "
   ]
  },
  {
   "cell_type": "code",
   "execution_count": 278,
   "metadata": {},
   "outputs": [
    {
     "name": "stdout",
     "output_type": "stream",
     "text": [
      "    PostalCode          Borough         Neighbourhood\n",
      "182        M4S  Central Toronto          Davisville\\n\n",
      "155        M4P  Central Toronto    Davisville North\\n\n",
      "210        M4V  Central Toronto             Deer Park\n",
      "156        M5P  Central Toronto     Forest Hill North\n",
      "211        M4V  Central Toronto      Forest Hill SE\\n\n",
      "..         ...              ...                   ...\n",
      "133        M6M             York          Mount Dennis\n",
      "146        M6N             York           Runnymede\\n\n",
      "134        M6M             York           Silverthorn\n",
      "145        M6N             York  The Junction North\\n\n",
      "149        M9N             York                Weston\n",
      "\n",
      "[287 rows x 3 columns]\n"
     ]
    }
   ],
   "source": [
    "content = url.content\n",
    "html = html.fromstring(content)\n",
    "packages = html.xpath('//table[@class=\\\"wikitable sortable\\\"]//tr/td//text()') \n",
    "for i in range(packages.count('\\n')):\n",
    "    packages.remove('\\n')\n",
    "n=3 # divide for 3 columns :\n",
    "tbl=[packages[i * n:(i + 1) * n] for i in range((len(packages) + n - 1) // n )]  \n",
    "df=pd.DataFrame(tbl, columns=['PostalCode','Borough','Neighbourhood'])\n",
    "df.sort_values(by=['Borough','Neighbourhood'], ascending=True,inplace=True)\n",
    "print(df)"
   ]
  },
  {
   "cell_type": "markdown",
   "metadata": {},
   "source": [
    "Transformation of data frame:\n",
    "    drop 'Not assigned' data:"
   ]
  },
  {
   "cell_type": "code",
   "execution_count": 279,
   "metadata": {},
   "outputs": [],
   "source": [
    "rows=df.shape[0]\n",
    "for row1 in range(rows):\n",
    "    if df.iat[row1,1]!='Not assigned':\n",
    "        if df.iat[row1,2].replace('\\n','')=='Not assigned':\n",
    "            df.iat[row1,2]=df.iat[row1,1]\n",
    "        else: \n",
    "            df.iat[row1,2]=df.iat[row1,2].replace('\\n','')\n",
    "    else:\n",
    "        df.iloc[[row1]]=[[pd.NaT,pd.NaT,pd.NaT]]\n"
   ]
  },
  {
   "cell_type": "markdown",
   "metadata": {},
   "source": [
    "combination of Neighbourhoods from one Borough into one row:"
   ]
  },
  {
   "cell_type": "code",
   "execution_count": 280,
   "metadata": {},
   "outputs": [],
   "source": [
    "boo=False\n",
    "while(boo==False):\n",
    "    for row in range(rows):\n",
    "        if row+1 < rows:\n",
    "            if (df.iat[row,1]==df.iat[row+1,1]):\n",
    "                df.iloc[[row]]=[[df.iat[row,0], df.iat[row,1], df.iat[row,2].replace('\\n','')+', '+df.iat[row+1,2].replace('\\n','') ]] #, ignore_index=True)    \n",
    "                df.iloc[[row+1]]=[[pd.NaT,pd.NaT,pd.NaT]]\n",
    "    df.dropna(inplace=True) # drop all rows with pd.NaT\n",
    "    bool_series = df.duplicated(['Borough'],False) \n",
    "    boo=df[bool_series].empty\n",
    "    df.sort_values(by=['Borough'], inplace = True)\n",
    "    rows=df.shape[0]"
   ]
  },
  {
   "cell_type": "code",
   "execution_count": 283,
   "metadata": {},
   "outputs": [
    {
     "name": "stdout",
     "output_type": "stream",
     "text": [
      "   PostalCode           Borough  \\\n",
      "0         M4S   Central Toronto   \n",
      "1         M5H  Downtown Toronto   \n",
      "2         M4E      East Toronto   \n",
      "3         M4J         East York   \n",
      "4         M9C         Etobicoke   \n",
      "5         M7R       Mississauga   \n",
      "6         M6A        North York   \n",
      "7         M7A      Queen's Park   \n",
      "8         M1S       Scarborough   \n",
      "9         M6J      West Toronto   \n",
      "10        M6C              York   \n",
      "\n",
      "                                        Neighbourhood  \n",
      "0   Davisville, Davisville North, Summerhill West,...  \n",
      "1   Adelaide, Bathurst Quay, Cabbagetown, Central ...  \n",
      "2   The Beaches, The Beaches West, The Danforth We...  \n",
      "3   East Toronto, Leaside, Parkview Hill, Thorncli...  \n",
      "4   Old Burnhamthorpe, Old Mill North, Montgomery ...  \n",
      "5               Canada Post Gateway Processing Centre  \n",
      "6   Lawrence Heights, Lawrence Manor, Willowdale S...  \n",
      "7                                        Queen's Park  \n",
      "8   Agincourt, Agincourt North, Woburn, Malvern, M...  \n",
      "9   Trinity, Swansea, The Junction South, Roncesva...  \n",
      "10  Humewood-Cedarvale, Keelesdale, Mount Dennis, ...  \n",
      "Total:  11  rows\n"
     ]
    }
   ],
   "source": [
    "# final dataframe (11 rows):\n",
    "df.reset_index(drop=True, inplace=True)\n",
    "print(df)\n",
    "print('Total: ',rows,' rows')"
   ]
  }
 ],
 "metadata": {
  "kernelspec": {
   "display_name": "Python 3",
   "language": "python",
   "name": "python3"
  },
  "language_info": {
   "codemirror_mode": {
    "name": "ipython",
    "version": 3
   },
   "file_extension": ".py",
   "mimetype": "text/x-python",
   "name": "python",
   "nbconvert_exporter": "python",
   "pygments_lexer": "ipython3",
   "version": "3.7.0"
  }
 },
 "nbformat": 4,
 "nbformat_minor": 2
}
